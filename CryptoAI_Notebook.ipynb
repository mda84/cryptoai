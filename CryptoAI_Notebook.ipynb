{
 "cells": [
  {
   "cell_type": "markdown",
   "id": "infectious-mitchell",
   "metadata": {},
   "source": [
    "# CryptoAI: Multi-Modal Crypto Market Analysis Notebook\n",
    "\n",
    "This notebook demonstrates the complete workflow for the CryptoAI project. We:\n",
    "\n",
    "- Fetch crypto news from Coindesk’s RSS feed and label them using NLTK’s VADER.\n",
    "- Fine-tune a DistilBERT model (LLM) for sentiment analysis.\n",
    "- Download Bitcoin historical market data from CoinGecko and generate candlestick charts.\n",
    "- Fine-tune OpenAI’s CLIP (VLM) on the generated charts to classify them as bullish or bearish.\n",
    "- Finally, we run a demonstration that uses the fine-tuned models to perform inference on new data.\n",
    "\n",
    "This notebook is intended for experimentation and development. For a production system, consider adding robust error handling, logging, and optimizations."
   ]
  },
  {
   "cell_type": "code",
   "execution_count": null,
   "id": "b435f135",
   "metadata": {},
   "outputs": [],
   "source": [
    "# Install dependencies (if not already installed)\n",
    "!pip install feedparser nltk datasets transformers pycoingecko mplfinance torch torchvision streamlit pandas Pillow matplotlib git+https://github.com/openai/CLIP.git"
   ]
  },
  {
   "cell_type": "code",
   "execution_count": 1,
   "id": "33e5e5c1",
   "metadata": {},
   "outputs": [
    {
     "name": "stderr",
     "output_type": "stream",
     "text": [
      "[nltk_data] Downloading package vader_lexicon to\n",
      "[nltk_data]     C:\\Users\\moham\\AppData\\Roaming\\nltk_data...\n",
      "[nltk_data]   Package vader_lexicon is already up-to-date!\n"
     ]
    },
    {
     "data": {
      "text/plain": [
       "True"
      ]
     },
     "execution_count": 1,
     "metadata": {},
     "output_type": "execute_result"
    }
   ],
   "source": [
    "# Download NLTK VADER lexicon\n",
    "import nltk\n",
    "nltk.download('vader_lexicon')"
   ]
  },
  {
   "cell_type": "markdown",
   "id": "premium-upper",
   "metadata": {},
   "source": [
    "## Part 1: LLM Fine-Tuning\n",
    "\n",
    "In this section, we:\n",
    "\n",
    "- Fetch crypto news articles from Coindesk’s RSS feed.\n",
    "- Label each article using VADER (assigning a binary label: 1 for non-negative and 0 for negative sentiment).\n",
    "- Create a Hugging Face dataset and fine-tune a DistilBERT model for sentiment classification."
   ]
  },
  {
   "cell_type": "code",
   "execution_count": 2,
   "id": "8afaa489",
   "metadata": {},
   "outputs": [
    {
     "name": "stderr",
     "output_type": "stream",
     "text": [
      "c:\\users\\moham\\appdata\\local\\programs\\python\\python39\\lib\\site-packages\\torchvision\\io\\image.py:13: UserWarning: Failed to load image Python extension: [WinError 127] The specified procedure could not be found\n",
      "  warn(f\"Failed to load image Python extension: {e}\")\n"
     ]
    },
    {
     "name": "stdout",
     "output_type": "stream",
     "text": [
      "Fetched 66 articles.\n",
      "Labeled data contains 66 samples.\n"
     ]
    },
    {
     "name": "stderr",
     "output_type": "stream",
     "text": [
      "Some weights of DistilBertForSequenceClassification were not initialized from the model checkpoint at distilbert-base-uncased and are newly initialized: ['classifier.bias', 'classifier.weight', 'pre_classifier.bias', 'pre_classifier.weight']\n",
      "You should probably TRAIN this model on a down-stream task to be able to use it for predictions and inference.\n"
     ]
    },
    {
     "data": {
      "application/vnd.jupyter.widget-view+json": {
       "model_id": "c1c295d97cd044c1921ab187b35c4cf5",
       "version_major": 2,
       "version_minor": 0
      },
      "text/plain": [
       "  0%|          | 0/1 [00:00<?, ?ba/s]"
      ]
     },
     "metadata": {},
     "output_type": "display_data"
    },
    {
     "data": {
      "application/vnd.jupyter.widget-view+json": {
       "model_id": "ef290f377d3545c6aee2a54517800bf4",
       "version_major": 2,
       "version_minor": 0
      },
      "text/plain": [
       "  0%|          | 0/1 [00:00<?, ?ba/s]"
      ]
     },
     "metadata": {},
     "output_type": "display_data"
    },
    {
     "name": "stderr",
     "output_type": "stream",
     "text": [
      "c:\\users\\moham\\appdata\\local\\programs\\python\\python39\\lib\\site-packages\\transformers\\training_args.py:1575: FutureWarning: `evaluation_strategy` is deprecated and will be removed in version 4.46 of 🤗 Transformers. Use `eval_strategy` instead\n",
      "  warnings.warn(\n",
      "\u001b[34m\u001b[1mwandb\u001b[0m: \u001b[33mWARNING\u001b[0m The `run_name` is currently set to the same value as `TrainingArguments.output_dir`. If this was not intended, please specify a different run name by setting the `TrainingArguments.run_name` parameter.\n"
     ]
    },
    {
     "name": "stdout",
     "output_type": "stream",
     "text": [
      "Starting LLM fine-tuning...\n"
     ]
    },
    {
     "name": "stderr",
     "output_type": "stream",
     "text": [
      "\u001b[34m\u001b[1mwandb\u001b[0m: Currently logged in as: \u001b[33mdorkhah9-shorewise-consulting\u001b[0m (use `wandb login --relogin` to force relogin)\n"
     ]
    },
    {
     "data": {
      "text/html": [
       "wandb version 0.19.8 is available!  To upgrade, please run:\n",
       " $ pip install wandb --upgrade"
      ],
      "text/plain": [
       "<IPython.core.display.HTML object>"
      ]
     },
     "metadata": {},
     "output_type": "display_data"
    },
    {
     "data": {
      "text/html": [
       "Tracking run with wandb version 0.12.13"
      ],
      "text/plain": [
       "<IPython.core.display.HTML object>"
      ]
     },
     "metadata": {},
     "output_type": "display_data"
    },
    {
     "data": {
      "text/html": [
       "Run data is saved locally in <code>C:\\Users\\moham\\Desktop\\personal-repos\\cryptoai\\wandb\\run-20250305_132633-278abopg</code>"
      ],
      "text/plain": [
       "<IPython.core.display.HTML object>"
      ]
     },
     "metadata": {},
     "output_type": "display_data"
    },
    {
     "data": {
      "text/html": [
       "Syncing run <strong><a href=\"https://wandb.ai/dorkhah9-shorewise-consulting/huggingface/runs/278abopg\" target=\"_blank\">./models/llm_finetuned</a></strong> to <a href=\"https://wandb.ai/dorkhah9-shorewise-consulting/huggingface\" target=\"_blank\">Weights & Biases</a> (<a href=\"https://wandb.me/run\" target=\"_blank\">docs</a>)<br/>"
      ],
      "text/plain": [
       "<IPython.core.display.HTML object>"
      ]
     },
     "metadata": {},
     "output_type": "display_data"
    },
    {
     "data": {
      "text/html": [
       "\n",
       "    <div>\n",
       "      \n",
       "      <progress value='130' max='130' style='width:300px; height:20px; vertical-align: middle;'></progress>\n",
       "      [130/130 04:43, Epoch 10/10]\n",
       "    </div>\n",
       "    <table border=\"1\" class=\"dataframe\">\n",
       "  <thead>\n",
       " <tr style=\"text-align: left;\">\n",
       "      <th>Epoch</th>\n",
       "      <th>Training Loss</th>\n",
       "      <th>Validation Loss</th>\n",
       "    </tr>\n",
       "  </thead>\n",
       "  <tbody>\n",
       "    <tr>\n",
       "      <td>1</td>\n",
       "      <td>0.744900</td>\n",
       "      <td>0.728487</td>\n",
       "    </tr>\n",
       "    <tr>\n",
       "      <td>2</td>\n",
       "      <td>0.704800</td>\n",
       "      <td>0.700083</td>\n",
       "    </tr>\n",
       "    <tr>\n",
       "      <td>3</td>\n",
       "      <td>0.717500</td>\n",
       "      <td>0.676595</td>\n",
       "    </tr>\n",
       "    <tr>\n",
       "      <td>4</td>\n",
       "      <td>0.676100</td>\n",
       "      <td>0.658901</td>\n",
       "    </tr>\n",
       "    <tr>\n",
       "      <td>5</td>\n",
       "      <td>0.670700</td>\n",
       "      <td>0.640666</td>\n",
       "    </tr>\n",
       "    <tr>\n",
       "      <td>6</td>\n",
       "      <td>0.669100</td>\n",
       "      <td>0.627655</td>\n",
       "    </tr>\n",
       "    <tr>\n",
       "      <td>7</td>\n",
       "      <td>0.646400</td>\n",
       "      <td>0.616903</td>\n",
       "    </tr>\n",
       "    <tr>\n",
       "      <td>8</td>\n",
       "      <td>0.648300</td>\n",
       "      <td>0.609517</td>\n",
       "    </tr>\n",
       "    <tr>\n",
       "      <td>9</td>\n",
       "      <td>0.640700</td>\n",
       "      <td>0.605662</td>\n",
       "    </tr>\n",
       "    <tr>\n",
       "      <td>10</td>\n",
       "      <td>0.626400</td>\n",
       "      <td>0.604511</td>\n",
       "    </tr>\n",
       "  </tbody>\n",
       "</table><p>"
      ],
      "text/plain": [
       "<IPython.core.display.HTML object>"
      ]
     },
     "metadata": {},
     "output_type": "display_data"
    },
    {
     "name": "stdout",
     "output_type": "stream",
     "text": [
      "LLM fine-tuning complete and model saved to ./models/llm_finetuned\n"
     ]
    }
   ],
   "source": [
    "import feedparser\n",
    "from nltk.sentiment.vader import SentimentIntensityAnalyzer\n",
    "from datasets import Dataset\n",
    "from transformers import AutoTokenizer, AutoModelForSequenceClassification, Trainer, TrainingArguments\n",
    "import pandas as pd\n",
    "\n",
    "def fetch_crypto_news():\n",
    "    # List of RSS feed URLs from multiple crypto news sources.\n",
    "    feed_urls = [\n",
    "        \"https://feeds.feedburner.com/CoinDesk\",\n",
    "        \"https://cointelegraph.com/rss\",\n",
    "        \"https://cryptoslate.com/feed/\",\n",
    "        \"https://www.ccn.com/feed/\"\n",
    "    ]\n",
    "    articles = []\n",
    "    for url in feed_urls:\n",
    "        feed = feedparser.parse(url)\n",
    "        for entry in feed.entries:\n",
    "            # Concatenate title and summary\n",
    "            text = entry.title + \". \" + entry.summary\n",
    "            articles.append(text)\n",
    "    # Optionally, remove duplicate articles (based on text)\n",
    "    articles = list(set(articles))\n",
    "    return articles\n",
    "\n",
    "def label_articles(articles):\n",
    "    sia = SentimentIntensityAnalyzer()\n",
    "    data = []\n",
    "    for text in articles:\n",
    "        sentiment = sia.polarity_scores(text)\n",
    "        compound = sentiment['compound']\n",
    "        # Label: 1 if compound score is non-negative, else 0\n",
    "        label = 1 if compound >= 0 else 0\n",
    "        data.append({'text': text, 'label': label})\n",
    "    return data\n",
    "\n",
    "# Fetch and label data from multiple sources\n",
    "articles = fetch_crypto_news()\n",
    "print(f\"Fetched {len(articles)} articles.\")\n",
    "\n",
    "data = label_articles(articles)\n",
    "print(f\"Labeled data contains {len(data)} samples.\")\n",
    "\n",
    "# Convert list of dictionaries to a DataFrame\n",
    "df = pd.DataFrame(data)\n",
    "# Remove the extra index column if it exists\n",
    "if '__index_level_0__' in df.columns:\n",
    "    df = df.drop(columns=['__index_level_0__'])\n",
    "# Create a Dataset from the DataFrame\n",
    "dataset = Dataset.from_pandas(df)\n",
    "\n",
    "# Split the dataset into training and test sets\n",
    "dataset = dataset.train_test_split(test_size=0.2, seed=42)\n",
    "\n",
    "# Fine-tune DistilBERT for sentiment classification\n",
    "model_checkpoint = \"distilbert-base-uncased\"\n",
    "tokenizer = AutoTokenizer.from_pretrained(model_checkpoint)\n",
    "model = AutoModelForSequenceClassification.from_pretrained(model_checkpoint, num_labels=2)\n",
    "\n",
    "def tokenize_function(examples):\n",
    "    return tokenizer(examples[\"text\"], truncation=True, padding=\"max_length\", max_length=256)\n",
    "\n",
    "tokenized_datasets = dataset.map(tokenize_function, batched=True)\n",
    "\n",
    "training_args = TrainingArguments(\n",
    "    output_dir=\"./models/llm_finetuned\",\n",
    "    evaluation_strategy=\"epoch\",\n",
    "    learning_rate=2e-6,\n",
    "    per_device_train_batch_size=4,\n",
    "    per_device_eval_batch_size=4,\n",
    "    num_train_epochs=10,\n",
    "    weight_decay=0.1,\n",
    "    logging_steps=10,\n",
    "    remove_unused_columns=False,  # Disable automatic removal of unused columns\n",
    ")\n",
    "\n",
    "trainer = Trainer(\n",
    "    model=model,\n",
    "    args=training_args,\n",
    "    train_dataset=tokenized_datasets[\"train\"],\n",
    "    eval_dataset=tokenized_datasets[\"test\"],\n",
    ")\n",
    "\n",
    "print(\"Starting LLM fine-tuning...\")\n",
    "trainer.train()\n",
    "\n",
    "# Save the fine-tuned model\n",
    "model.save_pretrained(\"./models/llm_finetuned\", safe_serialization=False)\n",
    "tokenizer.save_pretrained(\"./models/llm_finetuned\")\n",
    "\n",
    "print(\"LLM fine-tuning complete and model saved to ./models/llm_finetuned\")"
   ]
  },
  {
   "cell_type": "markdown",
   "id": "according-dealing",
   "metadata": {},
   "source": [
    "## Part 2: VLM Fine-Tuning\n",
    "\n",
    "Next, we:\n",
    "\n",
    "- Download Bitcoin historical data from CoinGecko.\n",
    "- Generate candlestick charts with mplfinance.\n",
    "- Label each chart as **bullish** (if the final close is higher than the initial open) or **bearish**.\n",
    "- Fine-tune OpenAI's CLIP model on these charts using a simple training loop."
   ]
  },
  {
   "cell_type": "code",
   "execution_count": 3,
   "id": "d0a236fc",
   "metadata": {},
   "outputs": [
    {
     "name": "stdout",
     "output_type": "stream",
     "text": [
      "Generated 55 candlestick charts.\n",
      "Starting VLM fine-tuning...\n"
     ]
    },
    {
     "name": "stderr",
     "output_type": "stream",
     "text": [
      "C:\\Users\\moham\\AppData\\Local\\Temp/ipykernel_39392/3433736019.py:99: UserWarning: To copy construct from a tensor, it is recommended to use sourceTensor.clone().detach() or sourceTensor.clone().detach().requires_grad_(True), rather than torch.tensor(sourceTensor).\n",
      "  labels = torch.tensor(labels).to(device)\n"
     ]
    },
    {
     "name": "stdout",
     "output_type": "stream",
     "text": [
      "Epoch 0 Loss: 1.7087438106536865\n",
      "Epoch 0 Loss: 4.089028835296631\n",
      "Epoch 0 Loss: 2.3307607173919678\n",
      "Epoch 0 Loss: 0.5180132389068604\n",
      "Epoch 0 Loss: 0.9236690998077393\n",
      "Epoch 0 Loss: 0.588776707649231\n",
      "Epoch 0 Loss: 0.4214000105857849\n",
      "Epoch 0 Loss: 1.077101469039917\n",
      "Epoch 0 Loss: 0.6181157231330872\n",
      "Epoch 0 Loss: 0.642157793045044\n",
      "Epoch 0 Loss: 0.6840968728065491\n",
      "Epoch 0 Loss: 0.7055062651634216\n",
      "Epoch 0 Loss: 0.6209826469421387\n",
      "Epoch 0 Loss: 0.6279971599578857\n",
      "Epoch 1 Loss: 0.7177717089653015\n",
      "Epoch 1 Loss: 0.5640753507614136\n",
      "Epoch 1 Loss: 0.7447790503501892\n",
      "Epoch 1 Loss: 0.7233631014823914\n",
      "Epoch 1 Loss: 0.6102532744407654\n",
      "Epoch 1 Loss: 0.5444055795669556\n",
      "Epoch 1 Loss: 0.7015656232833862\n",
      "Epoch 1 Loss: 0.5051751136779785\n",
      "Epoch 1 Loss: 0.5148640871047974\n",
      "Epoch 1 Loss: 0.535960853099823\n",
      "Epoch 1 Loss: 0.8493967056274414\n",
      "Epoch 1 Loss: 0.7733601331710815\n",
      "Epoch 1 Loss: 0.3940049111843109\n",
      "Epoch 1 Loss: 0.6975641846656799\n",
      "Epoch 2 Loss: 0.5802949666976929\n",
      "Epoch 2 Loss: 0.48255085945129395\n",
      "Epoch 2 Loss: 0.45506903529167175\n",
      "Epoch 2 Loss: 0.4332890212535858\n",
      "Epoch 2 Loss: 1.0390567779541016\n",
      "Epoch 2 Loss: 0.5959218740463257\n",
      "Epoch 2 Loss: 0.5950782895088196\n",
      "Epoch 2 Loss: 0.49624794721603394\n",
      "Epoch 2 Loss: 0.5025773048400879\n",
      "Epoch 2 Loss: 0.5611284375190735\n",
      "Epoch 2 Loss: 0.3262397050857544\n",
      "Epoch 2 Loss: 0.471120685338974\n",
      "Epoch 2 Loss: 0.7060766220092773\n",
      "Epoch 2 Loss: 0.5386494398117065\n",
      "VLM fine-tuning complete and model saved to ./models/vlm_finetuned.pth\n"
     ]
    }
   ],
   "source": [
    "import os\n",
    "import pandas as pd\n",
    "import mplfinance as mpf\n",
    "from pycoingecko import CoinGeckoAPI\n",
    "from datetime import datetime, timedelta\n",
    "import torch\n",
    "from torch.utils.data import Dataset, DataLoader\n",
    "import clip  # Install via: pip install git+https://github.com/openai/CLIP.git\n",
    "from PIL import Image\n",
    "import torchvision.transforms as transforms\n",
    "\n",
    "# Create directories to store chart images and models\n",
    "CHART_DIR = \"data/charts\"\n",
    "os.makedirs(CHART_DIR, exist_ok=True)\n",
    "os.makedirs(\"models\", exist_ok=True)\n",
    "\n",
    "def fetch_bitcoin_data(days=60):\n",
    "    cg = CoinGeckoAPI()\n",
    "    end_date = datetime.now()\n",
    "    start_date = end_date - timedelta(days=days)\n",
    "    data = cg.get_coin_market_chart_range_by_id(id='bitcoin', vs_currency='usd',\n",
    "                                                from_timestamp=start_date.timestamp(),\n",
    "                                                to_timestamp=end_date.timestamp())\n",
    "    prices = data['prices']\n",
    "    df = pd.DataFrame(prices, columns=['timestamp', 'price'])\n",
    "    df['datetime'] = pd.to_datetime(df['timestamp'], unit='ms')\n",
    "    df.set_index('datetime', inplace=True)\n",
    "    # Resample to daily OHLC values\n",
    "    daily = df.resample('1D').agg({'price': ['first', 'max', 'min', 'last']})\n",
    "    daily.columns = ['Open', 'High', 'Low', 'Close']\n",
    "    daily = daily.dropna()\n",
    "    return daily\n",
    "\n",
    "def generate_candlestick_charts(df, chart_period=7):\n",
    "    chart_files = []\n",
    "    for i in range(0, len(df) - chart_period + 1, chart_period):\n",
    "        df_chunk = df.iloc[i:i+chart_period]\n",
    "        start_date = df_chunk.index[0].strftime(\"%Y-%m-%d\")\n",
    "        end_date = df_chunk.index[-1].strftime(\"%Y-%m-%d\")\n",
    "        file_name = f\"bitcoin_{start_date}_to_{end_date}.png\"\n",
    "        file_path = os.path.join(CHART_DIR, file_name)\n",
    "        mpf.plot(df_chunk, type='candle', style='charles', title=f\"BTC {start_date} to {end_date}\",\n",
    "                 savefig=file_path)\n",
    "        chart_files.append((file_path, df_chunk))\n",
    "    return chart_files\n",
    "\n",
    "def generate_sliding_window_charts(df, window_size=7, step=1):\n",
    "    chart_files = []\n",
    "    for i in range(0, len(df) - window_size + 1, step):\n",
    "        df_chunk = df.iloc[i:i+window_size]\n",
    "        start_date = df_chunk.index[0].strftime(\"%Y-%m-%d\")\n",
    "        end_date = df_chunk.index[-1].strftime(\"%Y-%m-%d\")\n",
    "        file_name = f\"bitcoin_{start_date}_to_{end_date}.png\"\n",
    "        file_path = os.path.join(CHART_DIR, file_name)\n",
    "        mpf.plot(df_chunk, type='candle', style='charles', title=f\"BTC {start_date} to {end_date}\",\n",
    "                 savefig=file_path)\n",
    "        chart_files.append((file_path, df_chunk))\n",
    "    return chart_files\n",
    "\n",
    "class ChartDataset(Dataset):\n",
    "    def __init__(self, chart_files, transform=None):\n",
    "        self.chart_files = chart_files\n",
    "        self.transform = transform\n",
    "        \n",
    "    def __len__(self):\n",
    "        return len(self.chart_files)\n",
    "    \n",
    "    def __getitem__(self, idx):\n",
    "        file_path, df_chunk = self.chart_files[idx]\n",
    "        image = Image.open(file_path).convert(\"RGB\")\n",
    "        # Label: bullish if final close > initial open; else bearish\n",
    "        label = 1 if df_chunk['Close'].iloc[-1] > df_chunk['Open'].iloc[0] else 0\n",
    "        if self.transform:\n",
    "            image = self.transform(image)\n",
    "        return image, label\n",
    "\n",
    "# Fetch Bitcoin data and generate charts\n",
    "df_bitcoin = fetch_bitcoin_data(days=60)\n",
    "#chart_files = generate_candlestick_charts(df_bitcoin, chart_period=7)\n",
    "chart_files = generate_sliding_window_charts(df_bitcoin, window_size=7, step=1)\n",
    "print(f\"Generated {len(chart_files)} candlestick charts.\")\n",
    "\n",
    "# Load CLIP model\n",
    "device = \"cuda\" if torch.cuda.is_available() else \"cpu\"\n",
    "clip_model, preprocess = clip.load(\"ViT-B/32\", device=device)\n",
    "\n",
    "# Create dataset and dataloader\n",
    "transform = transforms.Compose([preprocess])\n",
    "dataset = ChartDataset(chart_files, transform=transform)\n",
    "dataloader = DataLoader(dataset, batch_size=4, shuffle=True)\n",
    "\n",
    "optimizer = torch.optim.Adam(clip_model.parameters(), lr=1e-5)\n",
    "clip_model.train()\n",
    "\n",
    "print(\"Starting VLM fine-tuning...\")\n",
    "for epoch in range(3):  # Fine-tune for 3 epochs\n",
    "    for images, labels in dataloader:\n",
    "        images = images.to(device)\n",
    "        labels = torch.tensor(labels).to(device)\n",
    "        # Use fixed text prompts for both classes: 0 -> \"bearish\", 1 -> \"bullish\"\n",
    "        text_inputs = clip.tokenize([\"bearish\", \"bullish\"]).to(device)\n",
    "        \n",
    "        image_features = clip_model.encode_image(images)\n",
    "        text_features = clip_model.encode_text(text_inputs)\n",
    "        \n",
    "        # Normalize features\n",
    "        image_features = image_features / image_features.norm(dim=-1, keepdim=True)\n",
    "        text_features = text_features / text_features.norm(dim=-1, keepdim=True)\n",
    "        \n",
    "        # Compute logits: shape (batch_size, 2)\n",
    "        logits_per_image = (image_features @ text_features.t()) * 100.0\n",
    "        \n",
    "        # Compute cross entropy loss with targets (0 or 1)\n",
    "        loss = torch.nn.functional.cross_entropy(logits_per_image, labels)\n",
    "        \n",
    "        optimizer.zero_grad()\n",
    "        loss.backward()\n",
    "        optimizer.step()\n",
    "        print(f\"Epoch {epoch} Loss: {loss.item()}\")\n",
    "        \n",
    "# Save the fine-tuned VLM model weights\n",
    "torch.save(clip_model.state_dict(), \"./models/vlm_finetuned.pth\")\n",
    "print(\"VLM fine-tuning complete and model saved to ./models/vlm_finetuned.pth\")"
   ]
  },
  {
   "cell_type": "markdown",
   "id": "cathedral-surge",
   "metadata": {},
   "source": [
    "## Part 3: Dashboard Demonstration\n",
    "\n",
    "Here we load the fine-tuned models and perform inference on new data:\n",
    "\n",
    "- Run sentiment analysis on a newly fetched crypto news article.\n",
    "- Generate a new Bitcoin candlestick chart and classify it using the fine-tuned CLIP model.\n",
    "\n",
    "This section simulates a dashboard-like demonstration."
   ]
  },
  {
   "cell_type": "code",
   "execution_count": 4,
   "id": "4d1a6fc5",
   "metadata": {
    "scrolled": true
   },
   "outputs": [
    {
     "name": "stderr",
     "output_type": "stream",
     "text": [
      "2025-03-05 13:32:50.490 Thread 'MainThread': missing ScriptRunContext! This warning can be ignored when running in bare mode.\n",
      "2025-03-05 13:32:52.447 \n",
      "  \u001b[33m\u001b[1mWarning:\u001b[0m to view this Streamlit app on a browser, run it with the following\n",
      "  command:\n",
      "\n",
      "    streamlit run c:\\users\\moham\\appdata\\local\\programs\\python\\python39\\lib\\site-packages\\ipykernel_launcher.py [ARGUMENTS]\n",
      "2025-03-05 13:32:52.448 Thread 'MainThread': missing ScriptRunContext! This warning can be ignored when running in bare mode.\n",
      "2025-03-05 13:32:52.448 \n",
      "`st.cache` is deprecated and will be removed soon. Please use one of Streamlit's new\n",
      "caching commands, `st.cache_data` or `st.cache_resource`. More information\n",
      "[in our docs](https://docs.streamlit.io/develop/concepts/architecture/caching).\n",
      "\n",
      "**Note**: The behavior of `st.cache` was updated in Streamlit 1.36 to the new caching\n",
      "logic used by `st.cache_data` and `st.cache_resource`. This might lead to some problems\n",
      "or unexpected behavior in certain edge cases.\n",
      "\n",
      "2025-03-05 13:32:52.450 Thread 'MainThread': missing ScriptRunContext! This warning can be ignored when running in bare mode.\n",
      "2025-03-05 13:32:52.450 Thread 'MainThread': missing ScriptRunContext! This warning can be ignored when running in bare mode.\n",
      "2025-03-05 13:32:52.451 \n",
      "`st.cache` is deprecated and will be removed soon. Please use one of Streamlit's new\n",
      "caching commands, `st.cache_data` or `st.cache_resource`. More information\n",
      "[in our docs](https://docs.streamlit.io/develop/concepts/architecture/caching).\n",
      "\n",
      "**Note**: The behavior of `st.cache` was updated in Streamlit 1.36 to the new caching\n",
      "logic used by `st.cache_data` and `st.cache_resource`. This might lead to some problems\n",
      "or unexpected behavior in certain edge cases.\n",
      "\n",
      "2025-03-05 13:32:52.454 Thread 'MainThread': missing ScriptRunContext! This warning can be ignored when running in bare mode.\n",
      "2025-03-05 13:32:52.455 Thread 'MainThread': missing ScriptRunContext! This warning can be ignored when running in bare mode.\n",
      "2025-03-05 13:32:52.455 Thread 'MainThread': missing ScriptRunContext! This warning can be ignored when running in bare mode.\n",
      "2025-03-05 13:32:52.539 Thread 'MainThread': missing ScriptRunContext! This warning can be ignored when running in bare mode.\n",
      "2025-03-05 13:32:52.540 Thread 'MainThread': missing ScriptRunContext! This warning can be ignored when running in bare mode.\n"
     ]
    },
    {
     "name": "stdout",
     "output_type": "stream",
     "text": [
      "--- Dashboard Demonstration ---\n",
      "Test Article: Why this Crypto Hedge Fund Expects Bitcoin Dominance to Drop. Bull. Credit: Paolo Feser, Unsplash\n",
      "Sentiment: Positive\n"
     ]
    },
    {
     "name": "stderr",
     "output_type": "stream",
     "text": [
      "2025-03-05 13:32:57.032 Thread 'MainThread': missing ScriptRunContext! This warning can be ignored when running in bare mode.\n",
      "2025-03-05 13:32:57.033 Thread 'MainThread': missing ScriptRunContext! This warning can be ignored when running in bare mode.\n",
      "2025-03-05 13:32:57.033 Thread 'MainThread': missing ScriptRunContext! This warning can be ignored when running in bare mode.\n"
     ]
    },
    {
     "name": "stdout",
     "output_type": "stream",
     "text": [
      "Generated chart at C:\\Users\\moham\\AppData\\Local\\Temp\\tmpxd88h64j.png\n"
     ]
    },
    {
     "name": "stderr",
     "output_type": "stream",
     "text": [
      "2025-03-05 13:32:57.550 Thread 'Thread-23': missing ScriptRunContext! This warning can be ignored when running in bare mode.\n",
      "2025-03-05 13:32:57.553 Thread 'Thread-23': missing ScriptRunContext! This warning can be ignored when running in bare mode.\n",
      "2025-03-05 13:33:00.826 Thread 'MainThread': missing ScriptRunContext! This warning can be ignored when running in bare mode.\n",
      "2025-03-05 13:33:00.829 Thread 'MainThread': missing ScriptRunContext! This warning can be ignored when running in bare mode.\n"
     ]
    },
    {
     "name": "stdout",
     "output_type": "stream",
     "text": [
      "Predicted Chart Pattern: bearish\n",
      "Confidence Scores: [0.37578073 0.62421924]\n"
     ]
    }
   ],
   "source": [
    "import streamlit as st\n",
    "import tempfile\n",
    "from pycoingecko import CoinGeckoAPI\n",
    "import mplfinance as mpf\n",
    "\n",
    "# Helper: Load fine-tuned LLM model\n",
    "@st.cache(allow_output_mutation=True)\n",
    "def load_llm_model():\n",
    "    from transformers import AutoTokenizer, AutoModelForSequenceClassification\n",
    "    model = AutoModelForSequenceClassification.from_pretrained(\"./models/llm_finetuned\")\n",
    "    tokenizer = AutoTokenizer.from_pretrained(\"./models/llm_finetuned\")\n",
    "    return model, tokenizer\n",
    "\n",
    "# Helper: Load fine-tuned VLM model\n",
    "@st.cache(allow_output_mutation=True)\n",
    "def load_vlm_model():\n",
    "    device = \"cuda\" if torch.cuda.is_available() else \"cpu\"\n",
    "    model, preprocess = clip.load(\"ViT-B/32\", device=device)\n",
    "    model.load_state_dict(torch.load(\"./models/vlm_finetuned.pth\", map_location=device))\n",
    "    model.to(device)\n",
    "    model.eval()\n",
    "    return model, preprocess, device\n",
    "\n",
    "def sentiment_analysis(text, model, tokenizer):\n",
    "    inputs = tokenizer(text, return_tensors=\"pt\", truncation=True, padding=True, max_length=256)\n",
    "    outputs = model(**inputs)\n",
    "    logits = outputs.logits.detach().cpu().numpy()\n",
    "    sentiment = \"Positive\" if logits.argmax() == 1 else \"Negative\"\n",
    "    return sentiment\n",
    "\n",
    "def fetch_bitcoin_data(days=30):\n",
    "    from datetime import datetime, timedelta\n",
    "    cg = CoinGeckoAPI()\n",
    "    end_date = datetime.now()\n",
    "    start_date = end_date - timedelta(days=days)\n",
    "    data = cg.get_coin_market_chart_range_by_id(id='bitcoin', vs_currency='usd',\n",
    "                                                from_timestamp=start_date.timestamp(),\n",
    "                                                to_timestamp=end_date.timestamp())\n",
    "    prices = data['prices']\n",
    "    df = pd.DataFrame(prices, columns=['timestamp', 'price'])\n",
    "    df['datetime'] = pd.to_datetime(df['timestamp'], unit='ms')\n",
    "    df.set_index('datetime', inplace=True)\n",
    "    daily = df.resample('1D').agg({'price': ['first', 'max', 'min', 'last']})\n",
    "    daily.columns = ['Open', 'High', 'Low', 'Close']\n",
    "    daily = daily.dropna()\n",
    "    return daily\n",
    "\n",
    "def generate_chart(days=30):\n",
    "    df = fetch_bitcoin_data(days=days)\n",
    "    temp_file = tempfile.NamedTemporaryFile(suffix=\".png\", delete=False)\n",
    "    mpf.plot(df, type='candle', style='charles', title=\"Bitcoin Candlestick Chart\", savefig=temp_file.name)\n",
    "    return temp_file.name\n",
    "\n",
    "def classify_chart(image, vlm_model, preprocess, device):\n",
    "    image_input = preprocess(image).unsqueeze(0).to(device)\n",
    "    text_inputs = clip.tokenize([\"bullish\", \"bearish\"]).to(device)\n",
    "    with torch.no_grad():\n",
    "        image_features = vlm_model.encode_image(image_input)\n",
    "        text_features = vlm_model.encode_text(text_inputs)\n",
    "        image_features = image_features / image_features.norm(dim=-1, keepdim=True)\n",
    "        text_features = text_features / text_features.norm(dim=-1, keepdim=True)\n",
    "        logits = (image_features @ text_features.t()) * 100.0\n",
    "        probs = torch.nn.functional.softmax(logits, dim=-1).cpu().numpy()[0]\n",
    "        label = \"bullish\" if probs.argmax() == 0 else \"bearish\"\n",
    "    return label, probs\n",
    "\n",
    "# --- Demonstration ---\n",
    "print(\"--- Dashboard Demonstration ---\")\n",
    "\n",
    "# Load LLM model and run sentiment analysis on a sample news article\n",
    "llm_model, tokenizer = load_llm_model()\n",
    "news_articles = fetch_crypto_news()\n",
    "if news_articles:\n",
    "    test_article = news_articles[0]\n",
    "    print(\"Test Article:\", test_article)\n",
    "    sentiment = sentiment_analysis(test_article, llm_model, tokenizer)\n",
    "    print(\"Sentiment:\", sentiment)\n",
    "else:\n",
    "    print(\"No news articles found.\")\n",
    "\n",
    "# Generate a new Bitcoin chart and classify it\n",
    "chart_path = generate_chart(days=30)\n",
    "print(f\"Generated chart at {chart_path}\")\n",
    "vlm_model, preprocess, device = load_vlm_model()\n",
    "image = Image.open(chart_path).convert(\"RGB\")\n",
    "label, probs = classify_chart(image, vlm_model, preprocess, device)\n",
    "print(\"Predicted Chart Pattern:\", label)\n",
    "print(\"Confidence Scores:\", probs)"
   ]
  },
  {
   "cell_type": "markdown",
   "id": "marked-wagner",
   "metadata": {},
   "source": [
    "## Conclusion\n",
    "\n",
    "In this notebook, we demonstrated the complete workflow for CryptoAI:\n",
    "\n",
    "- Data fetching and preprocessing for crypto news and Bitcoin market data.\n",
    "- Fine-tuning of an LLM for sentiment analysis and a VLM for chart pattern recognition.\n",
    "- Running inference to obtain sentiment labels and chart classifications.\n",
    "\n",
    "Feel free to experiment further with the models and visualizations. Happy analyzing!"
   ]
  }
 ],
 "metadata": {
  "kernelspec": {
   "display_name": "Python 3 (ipykernel)",
   "language": "python",
   "name": "python3"
  },
  "language_info": {
   "codemirror_mode": {
    "name": "ipython",
    "version": 3
   },
   "file_extension": ".py",
   "mimetype": "text/x-python",
   "name": "python",
   "nbconvert_exporter": "python",
   "pygments_lexer": "ipython3",
   "version": "3.9.2"
  }
 },
 "nbformat": 4,
 "nbformat_minor": 5
}
